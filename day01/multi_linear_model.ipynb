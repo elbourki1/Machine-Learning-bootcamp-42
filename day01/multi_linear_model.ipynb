{
 "nbformat": 4,
 "nbformat_minor": 2,
 "metadata": {
  "language_info": {
   "name": "python",
   "codemirror_mode": {
    "name": "ipython",
    "version": 3
   },
   "version": "3.7.6-final"
  },
  "orig_nbformat": 2,
  "file_extension": ".py",
  "mimetype": "text/x-python",
  "name": "python",
  "npconvert_exporter": "python",
  "pygments_lexer": "ipython3",
  "version": 3,
  "kernelspec": {
   "name": "python37664bitbaseconda5beb9a9a6f354f61906e3e020910aee1",
   "display_name": "Python 3.7.6 64-bit ('base': conda)"
  }
 },
 "cells": [
  {
   "cell_type": "code",
   "execution_count": 1,
   "metadata": {},
   "outputs": [],
   "source": [
    "import pandas as pd\n",
    "import numpy as np\n",
    "from mylinearregression import MyLinearRegression as MyLR"
   ]
  },
  {
   "cell_type": "code",
   "execution_count": 2,
   "metadata": {},
   "outputs": [],
   "source": [
    "data = pd.read_csv(\"./resources/spacecraft_data.csv\")"
   ]
  },
  {
   "cell_type": "code",
   "execution_count": 3,
   "metadata": {},
   "outputs": [
    {
     "output_type": "stream",
     "name": "stdout",
     "text": "(200, 3)\n"
    }
   ],
   "source": [
    "X_age = np.array(data['Age']).reshape((-1,1))\n",
    "X_thrust = np.array(data['Thrust_power']).reshape((-1,1))\n",
    "X_tera = np.array(data['Terameters']).reshape((-1,1))\n",
    "X = np.array(data[['Age','Thrust_power','Terameters']])\n",
    "print(X.shape)\n",
    "Y = np.array(data['Sell_price']).reshape((-1,1))\n",
    ""
   ]
  },
  {
   "cell_type": "code",
   "execution_count": 4,
   "metadata": {},
   "outputs": [
    {
     "output_type": "execute_result",
     "data": {
      "text/plain": "           Age  Thrust_power  Terameters  Sell_price\n0     0.000000    102.884445   30.117605  768.658817\n1     1.144554      9.000000   96.110216   62.450103\n2     3.420318     21.804128   11.971169  346.689592\n3     3.604186     30.035427   63.635897  255.096497\n4     2.660055    129.444990   27.010236  921.303347\n..         ...           ...         ...         ...\n195  19.367781     95.957785  139.184178   20.000000\n196  17.292362    131.718738  102.329786  402.359178\n197  17.769504    110.547066  104.018450  260.168988\n198  20.000000    178.680560   80.353100  611.782396\n199  19.575478    200.000000  200.000000  437.980652\n\n[200 rows x 4 columns]",
      "text/html": "<div>\n<style scoped>\n    .dataframe tbody tr th:only-of-type {\n        vertical-align: middle;\n    }\n\n    .dataframe tbody tr th {\n        vertical-align: top;\n    }\n\n    .dataframe thead th {\n        text-align: right;\n    }\n</style>\n<table border=\"1\" class=\"dataframe\">\n  <thead>\n    <tr style=\"text-align: right;\">\n      <th></th>\n      <th>Age</th>\n      <th>Thrust_power</th>\n      <th>Terameters</th>\n      <th>Sell_price</th>\n    </tr>\n  </thead>\n  <tbody>\n    <tr>\n      <th>0</th>\n      <td>0.000000</td>\n      <td>102.884445</td>\n      <td>30.117605</td>\n      <td>768.658817</td>\n    </tr>\n    <tr>\n      <th>1</th>\n      <td>1.144554</td>\n      <td>9.000000</td>\n      <td>96.110216</td>\n      <td>62.450103</td>\n    </tr>\n    <tr>\n      <th>2</th>\n      <td>3.420318</td>\n      <td>21.804128</td>\n      <td>11.971169</td>\n      <td>346.689592</td>\n    </tr>\n    <tr>\n      <th>3</th>\n      <td>3.604186</td>\n      <td>30.035427</td>\n      <td>63.635897</td>\n      <td>255.096497</td>\n    </tr>\n    <tr>\n      <th>4</th>\n      <td>2.660055</td>\n      <td>129.444990</td>\n      <td>27.010236</td>\n      <td>921.303347</td>\n    </tr>\n    <tr>\n      <th>...</th>\n      <td>...</td>\n      <td>...</td>\n      <td>...</td>\n      <td>...</td>\n    </tr>\n    <tr>\n      <th>195</th>\n      <td>19.367781</td>\n      <td>95.957785</td>\n      <td>139.184178</td>\n      <td>20.000000</td>\n    </tr>\n    <tr>\n      <th>196</th>\n      <td>17.292362</td>\n      <td>131.718738</td>\n      <td>102.329786</td>\n      <td>402.359178</td>\n    </tr>\n    <tr>\n      <th>197</th>\n      <td>17.769504</td>\n      <td>110.547066</td>\n      <td>104.018450</td>\n      <td>260.168988</td>\n    </tr>\n    <tr>\n      <th>198</th>\n      <td>20.000000</td>\n      <td>178.680560</td>\n      <td>80.353100</td>\n      <td>611.782396</td>\n    </tr>\n    <tr>\n      <th>199</th>\n      <td>19.575478</td>\n      <td>200.000000</td>\n      <td>200.000000</td>\n      <td>437.980652</td>\n    </tr>\n  </tbody>\n</table>\n<p>200 rows × 4 columns</p>\n</div>"
     },
     "metadata": {},
     "execution_count": 4
    }
   ],
   "source": [
    "data"
   ]
  },
  {
   "cell_type": "code",
   "execution_count": 5,
   "metadata": {},
   "outputs": [],
   "source": [
    "myLR_age = MyLR([[1000.0], [-1.0]])"
   ]
  },
  {
   "cell_type": "code",
   "execution_count": 21,
   "metadata": {},
   "outputs": [
    {
     "output_type": "stream",
     "name": "stdout",
     "text": "cost: 34051.41685683558"
    },
    {
     "output_type": "execute_result",
     "data": {
      "text/plain": "array([[996.84050367],\n       [-34.15540556]])"
     },
     "metadata": {},
     "execution_count": 21
    }
   ],
   "source": [
    "myLR_age.fit_(X_age[:,0].reshape(-1,1), Y, alpha = 0.00000025, n_cycle = 100000)"
   ]
  },
  {
   "cell_type": "code",
   "execution_count": 22,
   "metadata": {},
   "outputs": [
    {
     "output_type": "stream",
     "name": "stdout",
     "text": "68102.83371367113\n"
    }
   ],
   "source": [
    "RMSE_age = myLR_age.mse_(X_age[:,0].reshape(-1,1),Y)\n",
    "print(RMSE_age)"
   ]
  },
  {
   "cell_type": "code",
   "execution_count": 25,
   "metadata": {},
   "outputs": [
    {
     "output_type": "error",
     "ename": "ValueError",
     "evalue": "shapes (200,3) and (2,1) not aligned: 3 (dim 1) != 2 (dim 0)",
     "traceback": [
      "\u001b[0;31m---------------------------------------------------------------------------\u001b[0m",
      "\u001b[0;31mValueError\u001b[0m                                Traceback (most recent call last)",
      "\u001b[0;32m<ipython-input-25-9de39e016b94>\u001b[0m in \u001b[0;36m<module>\u001b[0;34m\u001b[0m\n\u001b[0;32m----> 1\u001b[0;31m \u001b[0mpred\u001b[0m \u001b[0;34m=\u001b[0m \u001b[0mmyLR_age\u001b[0m\u001b[0;34m.\u001b[0m\u001b[0mpredict_\u001b[0m\u001b[0;34m(\u001b[0m\u001b[0mX\u001b[0m\u001b[0;34m)\u001b[0m\u001b[0;34m\u001b[0m\u001b[0;34m\u001b[0m\u001b[0m\n\u001b[0m\u001b[1;32m      2\u001b[0m \u001b[0;31m# plt.plot()\u001b[0m\u001b[0;34m\u001b[0m\u001b[0;34m\u001b[0m\u001b[0;34m\u001b[0m\u001b[0m\n",
      "\u001b[0;32m/mnt/c/Users/lenovo/Desktop/roadToTop/bootcamp_ml/day01/mylinearregression.py\u001b[0m in \u001b[0;36mpredict_\u001b[0;34m(self, X)\u001b[0m\n\u001b[1;32m     34\u001b[0m         \u001b[0;32mdef\u001b[0m \u001b[0mpredict_\u001b[0m\u001b[0;34m(\u001b[0m\u001b[0mself\u001b[0m\u001b[0;34m,\u001b[0m \u001b[0mX\u001b[0m\u001b[0;34m)\u001b[0m\u001b[0;34m:\u001b[0m\u001b[0;34m\u001b[0m\u001b[0;34m\u001b[0m\u001b[0m\n\u001b[1;32m     35\u001b[0m                 \u001b[0;31m# X = self.concat(X)\u001b[0m\u001b[0;34m\u001b[0m\u001b[0;34m\u001b[0m\u001b[0;34m\u001b[0m\u001b[0m\n\u001b[0;32m---> 36\u001b[0;31m                 \u001b[0;32mreturn\u001b[0m \u001b[0mX\u001b[0m\u001b[0;34m.\u001b[0m\u001b[0mdot\u001b[0m\u001b[0;34m(\u001b[0m\u001b[0mself\u001b[0m\u001b[0;34m.\u001b[0m\u001b[0mtheta\u001b[0m\u001b[0;34m)\u001b[0m\u001b[0;34m\u001b[0m\u001b[0;34m\u001b[0m\u001b[0m\n\u001b[0m\u001b[1;32m     37\u001b[0m         \u001b[0;32mdef\u001b[0m \u001b[0mcost_elem_\u001b[0m\u001b[0;34m(\u001b[0m\u001b[0mself\u001b[0m\u001b[0;34m,\u001b[0m \u001b[0mX\u001b[0m\u001b[0;34m,\u001b[0m \u001b[0mY\u001b[0m\u001b[0;34m)\u001b[0m\u001b[0;34m:\u001b[0m\u001b[0;34m\u001b[0m\u001b[0;34m\u001b[0m\u001b[0m\n\u001b[1;32m     38\u001b[0m                 \u001b[0mM\u001b[0m \u001b[0;34m=\u001b[0m \u001b[0mY\u001b[0m\u001b[0;34m.\u001b[0m\u001b[0mshape\u001b[0m\u001b[0;34m[\u001b[0m\u001b[0;36m0\u001b[0m\u001b[0;34m]\u001b[0m\u001b[0;34m\u001b[0m\u001b[0;34m\u001b[0m\u001b[0m\n",
      "\u001b[0;31mValueError\u001b[0m: shapes (200,3) and (2,1) not aligned: 3 (dim 1) != 2 (dim 0)"
     ]
    }
   ],
   "source": [
    "pred = myLR_age.predict_(X)\n",
    "# plt.plot()"
   ]
  },
  {
   "cell_type": "code",
   "execution_count": null,
   "metadata": {},
   "outputs": [],
   "source": [
    "myLR_age.predict_(X_age)"
   ]
  },
  {
   "cell_type": "code",
   "execution_count": 13,
   "metadata": {},
   "outputs": [],
   "source": [
    "my_lreg = MyLR([1.0, 1.0, 1.0, 1.0])"
   ]
  },
  {
   "cell_type": "code",
   "execution_count": 14,
   "metadata": {},
   "outputs": [
    {
     "output_type": "execute_result",
     "data": {
      "text/plain": "144044.87774599806"
     },
     "metadata": {},
     "execution_count": 14
    }
   ],
   "source": [
    "my_lreg.mse_(X,Y)\n",
    ""
   ]
  },
  {
   "cell_type": "code",
   "execution_count": 15,
   "metadata": {},
   "outputs": [
    {
     "output_type": "stream",
     "name": "stdout",
     "text": "cost: 293.4484955858737"
    },
    {
     "output_type": "execute_result",
     "data": {
      "text/plain": "array([[334.99460274],\n       [-22.53529627],\n       [  5.85733473],\n       [ -2.58644702]])"
     },
     "metadata": {},
     "execution_count": 15
    }
   ],
   "source": [
    "my_lreg.fit_(X,Y, alpha = 1e-4, n_cycle = 600000)"
   ]
  },
  {
   "cell_type": "code",
   "execution_count": 26,
   "metadata": {},
   "outputs": [],
   "source": [
    "RMSE_age = myLR_age.mse_(X[:,0].reshape(-1,1),Y)"
   ]
  },
  {
   "cell_type": "code",
   "execution_count": 29,
   "metadata": {},
   "outputs": [
    {
     "output_type": "execute_result",
     "data": {
      "text/plain": "array([[334.99460274],\n       [-22.53529627],\n       [  5.85733473],\n       [ -2.58644702]])"
     },
     "metadata": {},
     "execution_count": 29
    }
   ],
   "source": [
    "my_lreg.theta\n",
    ""
   ]
  },
  {
   "cell_type": "code",
   "execution_count": 31,
   "metadata": {},
   "outputs": [
    {
     "output_type": "stream",
     "name": "stdout",
     "text": "586.8969911717471\n"
    }
   ],
   "source": [
    "print(my_lreg.mse_(X,Y))"
   ]
  },
  {
   "cell_type": "code",
   "execution_count": null,
   "metadata": {},
   "outputs": [],
   "source": []
  }
 ]
}
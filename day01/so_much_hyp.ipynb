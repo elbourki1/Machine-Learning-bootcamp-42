{
 "nbformat": 4,
 "nbformat_minor": 2,
 "metadata": {
  "language_info": {
   "name": "python",
   "codemirror_mode": {
    "name": "ipython",
    "version": 3
   },
   "version": "3.7.6-final"
  },
  "orig_nbformat": 2,
  "file_extension": ".py",
  "mimetype": "text/x-python",
  "name": "python",
  "npconvert_exporter": "python",
  "pygments_lexer": "ipython3",
  "version": 3,
  "kernelspec": {
   "name": "python37664bitbaseconda5beb9a9a6f354f61906e3e020910aee1",
   "display_name": "Python 3.7.6 64-bit ('base': conda)"
  }
 },
 "cells": [
  {
   "cell_type": "code",
   "execution_count": 1,
   "metadata": {},
   "outputs": [],
   "source": [
    "import pandas as pd\n",
    "import numpy as np\n",
    "from mylinearregression import MyLinearRegression as MyLR"
   ]
  },
  {
   "cell_type": "code",
   "execution_count": 2,
   "metadata": {},
   "outputs": [],
   "source": [
    "data = pd.read_csv(\"./resources/saturn_asteroids.csv\")"
   ]
  },
  {
   "cell_type": "code",
   "execution_count": 3,
   "metadata": {},
   "outputs": [
    {
     "output_type": "execute_result",
     "data": {
      "text/plain": "             x1       x1**2        x2      x2**2          y\n0     14.263345  203.443018  9.664967  93.411579  55.100248\n1      1.064010    1.132117  2.533052   6.416354   5.808565\n2     17.642486  311.257326  8.459919  71.570222  60.844557\n3      5.756596   33.138401  5.078344  25.789577  20.488656\n4     12.090395  146.177647  2.070983   4.288970  30.886121\n...         ...         ...       ...        ...        ...\n1995   9.812014   96.275623  6.050539  36.609025  32.400486\n1996   6.304753   39.749910  5.889572  34.687058  23.484234\n1997   6.300211   39.692665  9.723203  94.540677  34.843362\n1998   7.653938   58.582774  9.165493  84.006269  36.228435\n1999   2.889917    8.351622  1.880629   3.536767   8.683162\n\n[2000 rows x 5 columns]",
      "text/html": "<div>\n<style scoped>\n    .dataframe tbody tr th:only-of-type {\n        vertical-align: middle;\n    }\n\n    .dataframe tbody tr th {\n        vertical-align: top;\n    }\n\n    .dataframe thead th {\n        text-align: right;\n    }\n</style>\n<table border=\"1\" class=\"dataframe\">\n  <thead>\n    <tr style=\"text-align: right;\">\n      <th></th>\n      <th>x1</th>\n      <th>x1**2</th>\n      <th>x2</th>\n      <th>x2**2</th>\n      <th>y</th>\n    </tr>\n  </thead>\n  <tbody>\n    <tr>\n      <th>0</th>\n      <td>14.263345</td>\n      <td>203.443018</td>\n      <td>9.664967</td>\n      <td>93.411579</td>\n      <td>55.100248</td>\n    </tr>\n    <tr>\n      <th>1</th>\n      <td>1.064010</td>\n      <td>1.132117</td>\n      <td>2.533052</td>\n      <td>6.416354</td>\n      <td>5.808565</td>\n    </tr>\n    <tr>\n      <th>2</th>\n      <td>17.642486</td>\n      <td>311.257326</td>\n      <td>8.459919</td>\n      <td>71.570222</td>\n      <td>60.844557</td>\n    </tr>\n    <tr>\n      <th>3</th>\n      <td>5.756596</td>\n      <td>33.138401</td>\n      <td>5.078344</td>\n      <td>25.789577</td>\n      <td>20.488656</td>\n    </tr>\n    <tr>\n      <th>4</th>\n      <td>12.090395</td>\n      <td>146.177647</td>\n      <td>2.070983</td>\n      <td>4.288970</td>\n      <td>30.886121</td>\n    </tr>\n    <tr>\n      <th>...</th>\n      <td>...</td>\n      <td>...</td>\n      <td>...</td>\n      <td>...</td>\n      <td>...</td>\n    </tr>\n    <tr>\n      <th>1995</th>\n      <td>9.812014</td>\n      <td>96.275623</td>\n      <td>6.050539</td>\n      <td>36.609025</td>\n      <td>32.400486</td>\n    </tr>\n    <tr>\n      <th>1996</th>\n      <td>6.304753</td>\n      <td>39.749910</td>\n      <td>5.889572</td>\n      <td>34.687058</td>\n      <td>23.484234</td>\n    </tr>\n    <tr>\n      <th>1997</th>\n      <td>6.300211</td>\n      <td>39.692665</td>\n      <td>9.723203</td>\n      <td>94.540677</td>\n      <td>34.843362</td>\n    </tr>\n    <tr>\n      <th>1998</th>\n      <td>7.653938</td>\n      <td>58.582774</td>\n      <td>9.165493</td>\n      <td>84.006269</td>\n      <td>36.228435</td>\n    </tr>\n    <tr>\n      <th>1999</th>\n      <td>2.889917</td>\n      <td>8.351622</td>\n      <td>1.880629</td>\n      <td>3.536767</td>\n      <td>8.683162</td>\n    </tr>\n  </tbody>\n</table>\n<p>2000 rows × 5 columns</p>\n</div>"
     },
     "metadata": {},
     "execution_count": 3
    }
   ],
   "source": [
    "data"
   ]
  },
  {
   "cell_type": "code",
   "execution_count": 4,
   "metadata": {},
   "outputs": [],
   "source": [
    "X = np.array(data[['x1','x2']])\n",
    "Y = np.array(data['y']).reshape(-1,1)"
   ]
  },
  {
   "cell_type": "code",
   "execution_count": 5,
   "metadata": {},
   "outputs": [
    {
     "output_type": "stream",
     "name": "stdout",
     "text": "(2000,)\n(2000, 1)\n"
    }
   ],
   "source": [
    "print(X[:,1].shape)\n",
    "print(Y.shape)\n",
    ""
   ]
  },
  {
   "cell_type": "code",
   "execution_count": 6,
   "metadata": {},
   "outputs": [],
   "source": [
    "hypo1 = MyLR([1., 1.])\n",
    "hypo2 = MyLR([1., 1.])\n",
    ""
   ]
  },
  {
   "cell_type": "code",
   "execution_count": 7,
   "metadata": {},
   "outputs": [
    {
     "output_type": "stream",
     "name": "stdout",
     "text": "cost: 20.77528599215037"
    },
    {
     "output_type": "execute_result",
     "data": {
      "text/plain": "array([[5.54359453],\n       [2.67174611]])"
     },
     "metadata": {},
     "execution_count": 7
    }
   ],
   "source": [
    "hypo1.fit_(X[:,0].reshape(-1,1), Y, alpha = 1e-4, n_cycle = 1e5)"
   ]
  },
  {
   "cell_type": "code",
   "execution_count": 11,
   "metadata": {},
   "outputs": [
    {
     "output_type": "stream",
     "name": "stdout",
     "text": "cost: 110.90266702102628"
    },
    {
     "output_type": "execute_result",
     "data": {
      "text/plain": "array([[16.24492219],\n       [ 3.00594935]])"
     },
     "metadata": {},
     "execution_count": 11
    }
   ],
   "source": [
    "hypo2.fit_(X[:,1].reshape(-1,1), Y, alpha = 1e-4, n_cycle = 1e5)"
   ]
  },
  {
   "cell_type": "code",
   "execution_count": 14,
   "metadata": {},
   "outputs": [
    {
     "output_type": "execute_result",
     "data": {
      "text/plain": "15.261788122087916"
     },
     "metadata": {},
     "execution_count": 14
    }
   ],
   "source": [
    "hypo1.rmse_(X[:,0].reshape(-1,1),Y)\n",
    "hypo2.rmse_(X[:,0].reshape(-1,1),Y)\n",
    ""
   ]
  },
  {
   "cell_type": "code",
   "execution_count": null,
   "metadata": {},
   "outputs": [],
   "source": []
  }
 ]
}
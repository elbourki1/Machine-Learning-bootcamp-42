{
 "nbformat": 4,
 "nbformat_minor": 2,
 "metadata": {
  "language_info": {
   "name": "python",
   "codemirror_mode": {
    "name": "ipython",
    "version": 3
   },
   "version": "3.7.6-final"
  },
  "orig_nbformat": 2,
  "file_extension": ".py",
  "mimetype": "text/x-python",
  "name": "python",
  "npconvert_exporter": "python",
  "pygments_lexer": "ipython3",
  "version": 3,
  "kernelspec": {
   "name": "python37664bitbaseconda5beb9a9a6f354f61906e3e020910aee1",
   "display_name": "Python 3.7.6 64-bit ('base': conda)"
  }
 },
 "cells": [
  {
   "cell_type": "code",
   "execution_count": 40,
   "metadata": {},
   "outputs": [],
   "source": [
    "import pandas as pd\n",
    "import numpy as np\n",
    "from log_reg import LogisticRegressionBatchGd\n",
    "from sklearn.metrics import accuracy_score,precision_score, recall_score,f1_score"
   ]
  },
  {
   "cell_type": "code",
   "execution_count": 2,
   "metadata": {},
   "outputs": [],
   "source": [
    "# We load and prepare our train and test dataset into x_train, y_train and x_test, y_test\n",
    "df_train = pd.read_csv('./dataset/train_dataset_clean.csv', delimiter=',', header=None, index_col=False)\n",
    "x_train, y_train = np.array(df_train.iloc[:, 1:82]), df_train.iloc[:, 0]\n",
    "df_test = pd.read_csv('./dataset/test_dataset_clean.csv', delimiter=',', header=None, index_col=False)\n",
    "x_test, y_test = np.array(df_test.iloc[:, 1:82]), df_test.iloc[:, 0]\n",
    ""
   ]
  },
  {
   "cell_type": "code",
   "execution_count": 3,
   "metadata": {},
   "outputs": [
    {
     "output_type": "execute_result",
     "data": {
      "text/plain": "0        0.0\n1        0.0\n2        1.0\n3        1.0\n4        0.0\n        ... \n16276    0.0\n16277    0.0\n16278    0.0\n16279    0.0\n16280    1.0\nName: 0, Length: 16281, dtype: float64"
     },
     "metadata": {},
     "execution_count": 3
    }
   ],
   "source": [
    "y_test"
   ]
  },
  {
   "cell_type": "code",
   "execution_count": 4,
   "metadata": {},
   "outputs": [],
   "source": [
    "model = LogisticRegressionBatchGd(alpha=0.01, max_iter=1500, verbose=True,learning_rate='constant')"
   ]
  },
  {
   "cell_type": "code",
   "execution_count": 5,
   "metadata": {},
   "outputs": [
    {
     "output_type": "stream",
     "name": "stderr",
     "text": "[Parallel(n_jobs=-1)]: Using backend LokyBackend with 8 concurrent workers.\n[Parallel(n_jobs=-1)]: Done   1 out of   1 | elapsed:    8.7s finished\n"
    },
    {
     "output_type": "execute_result",
     "data": {
      "text/plain": "array([[-0.28275033],\n       [ 0.31304394],\n       [ 0.77343024],\n       [ 2.3042918 ],\n       [ 0.26047391],\n       [ 0.39254213],\n       [-0.40782262],\n       [-0.0575891 ],\n       [-0.1756248 ],\n       [ 0.22181823],\n       [ 0.56483469],\n       [-0.99348874],\n       [-0.24128967],\n       [-2.11427311],\n       [-1.62551769],\n       [-1.71414775],\n       [-1.51452083],\n       [-1.63916683],\n       [ 0.34144973],\n       [-0.17263433],\n       [ 0.49448091],\n       [-0.26317882],\n       [ 0.01130981],\n       [-1.06749653],\n       [-0.50040084],\n       [-0.34221366],\n       [-0.89428849],\n       [-1.29261624],\n       [ 0.35709066],\n       [ 0.24084571],\n       [-1.80925742],\n       [-0.4719347 ],\n       [ 0.00844976],\n       [-1.17896197],\n       [-0.13303762],\n       [ 1.28075649],\n       [-0.70828648],\n       [-0.17296944],\n       [-0.06285823],\n       [-0.58839461],\n       [-0.45043276],\n       [-0.83345034],\n       [-0.57507136],\n       [ 0.38919751],\n       [ 0.2633806 ],\n       [-0.42363034],\n       [ 0.11021099],\n       [-0.60282155],\n       [-0.30213616],\n       [ 0.24938596],\n       [ 0.13581636],\n       [-0.59285581],\n       [-0.99027012],\n       [-0.09331566],\n       [ 0.63351896],\n       [-1.18163428],\n       [ 0.25800149],\n       [-0.20837283],\n       [-0.11060485],\n       [-0.94772311],\n       [-1.42580262],\n       [-0.1477231 ],\n       [-0.16252346],\n       [ 0.04689052],\n       [-0.08932856],\n       [-0.61620471],\n       [-0.86422682],\n       [-0.5303149 ],\n       [-0.26156863],\n       [ 0.34102927],\n       [ 0.25784001],\n       [-0.06824233],\n       [-0.41681728],\n       [ 0.95441781],\n       [-0.25267648],\n       [-0.76149491],\n       [ 0.31454661],\n       [-0.35079543],\n       [-0.11820457],\n       [-0.29522216],\n       [-0.19823997],\n       [-0.02409687]])"
     },
     "metadata": {},
     "execution_count": 5
    }
   ],
   "source": [
    "model.fit(x_train, y_train)"
   ]
  },
  {
   "cell_type": "code",
   "execution_count": 6,
   "metadata": {},
   "outputs": [
    {
     "output_type": "execute_result",
     "data": {
      "text/plain": "0.8513252049998464"
     },
     "metadata": {},
     "execution_count": 6
    }
   ],
   "source": [
    "# model.thetas = np.insert(model.thetas,0,model.model.intercept_)\n",
    "model.thetas[:,0]\n",
    "# x_train = np.insert(x_train, 0, 1,axis=1)\n",
    "model.score(x_train, y_train)\n",
    ""
   ]
  },
  {
   "cell_type": "code",
   "execution_count": 8,
   "metadata": {},
   "outputs": [],
   "source": [
    "y_pred = model.predict(x_train)"
   ]
  },
  {
   "cell_type": "code",
   "execution_count": 11,
   "metadata": {},
   "outputs": [
    {
     "output_type": "error",
     "ename": "ValueError",
     "evalue": "Classification metrics can't handle a mix of continuous and binary targets",
     "traceback": [
      "\u001b[0;31m---------------------------------------------------------------------------\u001b[0m",
      "\u001b[0;31mValueError\u001b[0m                                Traceback (most recent call last)",
      "\u001b[0;32m<ipython-input-11-9391d7df802b>\u001b[0m in \u001b[0;36m<module>\u001b[0;34m\u001b[0m\n\u001b[0;32m----> 1\u001b[0;31m \u001b[0maccuracy_score\u001b[0m\u001b[0;34m(\u001b[0m\u001b[0my_pred\u001b[0m\u001b[0;34m,\u001b[0m\u001b[0my_train\u001b[0m\u001b[0;34m)\u001b[0m\u001b[0;34m\u001b[0m\u001b[0;34m\u001b[0m\u001b[0m\n\u001b[0m",
      "\u001b[0;32m~/anaconda3/lib/python3.7/site-packages/sklearn/metrics/_classification.py\u001b[0m in \u001b[0;36maccuracy_score\u001b[0;34m(y_true, y_pred, normalize, sample_weight)\u001b[0m\n\u001b[1;32m    183\u001b[0m \u001b[0;34m\u001b[0m\u001b[0m\n\u001b[1;32m    184\u001b[0m     \u001b[0;31m# Compute accuracy for each possible representation\u001b[0m\u001b[0;34m\u001b[0m\u001b[0;34m\u001b[0m\u001b[0;34m\u001b[0m\u001b[0m\n\u001b[0;32m--> 185\u001b[0;31m     \u001b[0my_type\u001b[0m\u001b[0;34m,\u001b[0m \u001b[0my_true\u001b[0m\u001b[0;34m,\u001b[0m \u001b[0my_pred\u001b[0m \u001b[0;34m=\u001b[0m \u001b[0m_check_targets\u001b[0m\u001b[0;34m(\u001b[0m\u001b[0my_true\u001b[0m\u001b[0;34m,\u001b[0m \u001b[0my_pred\u001b[0m\u001b[0;34m)\u001b[0m\u001b[0;34m\u001b[0m\u001b[0;34m\u001b[0m\u001b[0m\n\u001b[0m\u001b[1;32m    186\u001b[0m     \u001b[0mcheck_consistent_length\u001b[0m\u001b[0;34m(\u001b[0m\u001b[0my_true\u001b[0m\u001b[0;34m,\u001b[0m \u001b[0my_pred\u001b[0m\u001b[0;34m,\u001b[0m \u001b[0msample_weight\u001b[0m\u001b[0;34m)\u001b[0m\u001b[0;34m\u001b[0m\u001b[0;34m\u001b[0m\u001b[0m\n\u001b[1;32m    187\u001b[0m     \u001b[0;32mif\u001b[0m \u001b[0my_type\u001b[0m\u001b[0;34m.\u001b[0m\u001b[0mstartswith\u001b[0m\u001b[0;34m(\u001b[0m\u001b[0;34m'multilabel'\u001b[0m\u001b[0;34m)\u001b[0m\u001b[0;34m:\u001b[0m\u001b[0;34m\u001b[0m\u001b[0;34m\u001b[0m\u001b[0m\n",
      "\u001b[0;32m~/anaconda3/lib/python3.7/site-packages/sklearn/metrics/_classification.py\u001b[0m in \u001b[0;36m_check_targets\u001b[0;34m(y_true, y_pred)\u001b[0m\n\u001b[1;32m     88\u001b[0m     \u001b[0;32mif\u001b[0m \u001b[0mlen\u001b[0m\u001b[0;34m(\u001b[0m\u001b[0my_type\u001b[0m\u001b[0;34m)\u001b[0m \u001b[0;34m>\u001b[0m \u001b[0;36m1\u001b[0m\u001b[0;34m:\u001b[0m\u001b[0;34m\u001b[0m\u001b[0;34m\u001b[0m\u001b[0m\n\u001b[1;32m     89\u001b[0m         raise ValueError(\"Classification metrics can't handle a mix of {0} \"\n\u001b[0;32m---> 90\u001b[0;31m                          \"and {1} targets\".format(type_true, type_pred))\n\u001b[0m\u001b[1;32m     91\u001b[0m \u001b[0;34m\u001b[0m\u001b[0m\n\u001b[1;32m     92\u001b[0m     \u001b[0;31m# We can't have more than one value on y_type => The set is no more needed\u001b[0m\u001b[0;34m\u001b[0m\u001b[0;34m\u001b[0m\u001b[0;34m\u001b[0m\u001b[0m\n",
      "\u001b[0;31mValueError\u001b[0m: Classification metrics can't handle a mix of continuous and binary targets"
     ]
    }
   ],
   "source": [
    "accuracy_score(y_pred,y_train)"
   ]
  },
  {
   "cell_type": "code",
   "execution_count": 43,
   "metadata": {},
   "outputs": [],
   "source": [
    "y_pred = np.array([1, 1, 0, 1, 0, 0, 1, 1])\n",
    "\n",
    "y_true = np.array([1, 0, 0, 1, 0, 1, 0, 0])\n",
    "m = y_pred.shape[0]\n",
    "def accuracy_score_(y_true,y_pred):\n",
    "    m = y_pred.shape[0]\n",
    "    return (sum([1 if a == b else 0 for a,b in zip(y_pred,y_true)]) / m)\n",
    "def precision_score_(y_true,y_pred):\n",
    "    tp = sum([1 if a == 1 and b == 1 else 0 for a,b in zip(y_pred,y_true)])\n",
    "    fp = sum([1 if a == 1 and b == 0 else 0 for a,b in zip(y_pred,y_true)])\n",
    "    return tp /(tp + fp)\n",
    "def recall_score_(y_true,y_pred):\n",
    "    tp = sum([1 if a == 1 and b == 1 else 0 for a,b in zip(y_pred,y_true)])\n",
    "    fn = sum([1 if a == 0 and b == 1 else 0 for a,b in zip(y_pred,y_true)])\n",
    "    return tp /(tp + fn)\n",
    "def f1_score_(y_true,y_pred):\n",
    "    \"\"\"\n",
    "    F1 = 2 * (precision * recall) / (precision +    recall)\n",
    "    \"\"\"\n",
    "    precision = precision_score_(y_true,y_pred)\n",
    "    recall = recall_score_(y_true,y_pred)\n",
    "    return (2 * (precision * recall) / (precision + recall))\n",
    ""
   ]
  },
  {
   "cell_type": "code",
   "execution_count": 44,
   "metadata": {},
   "outputs": [
    {
     "output_type": "execute_result",
     "data": {
      "text/plain": "0.5"
     },
     "metadata": {},
     "execution_count": 44
    }
   ],
   "source": [
    "precision_score_(y_true,y_pred)\n",
    "f1_score(y_true,y_pred)"
   ]
  },
  {
   "cell_type": "code",
   "execution_count": null,
   "metadata": {},
   "outputs": [],
   "source": []
  }
 ]
}